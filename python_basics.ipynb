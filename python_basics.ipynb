{
  "nbformat": 4,
  "nbformat_minor": 0,
  "metadata": {
    "colab": {
      "provenance": []
    },
    "kernelspec": {
      "name": "python3",
      "display_name": "Python 3"
    },
    "language_info": {
      "name": "python"
    }
  },
  "cells": [
    {
      "cell_type": "markdown",
      "source": [
        "Q.1- What is pyhton, and why is it popular?\n",
        "\n",
        "Ans-Pyhton is a programming language. which we can use to give instruction to a computer. it is easy to read.\n",
        "\n",
        "why is it so popular\n",
        "\n",
        "1.It is easy to learn because of it's simple and readable nature\n",
        "\n",
        "2.Because of its massive library and community-Pyhton has a very huge library which will help in your task and you dont have to start from scratch. if you want to do something new you can just grab a library and use what's in it.community is also ver huge which you can get help from if you get stuch somwhere."
      ],
      "metadata": {
        "id": "W8-364qT2HkV"
      }
    },
    {
      "cell_type": "markdown",
      "source": [],
      "metadata": {
        "id": "IULYXnnG4a2D"
      }
    },
    {
      "cell_type": "markdown",
      "source": [
        "Q.2- What is an interpreter in python?\n",
        "\n",
        "Ans-Pyhton interpreter act as a translator. it takes pyhton code one line at a time, read it and translate it into machine code which computer can execute and understand it\n"
      ],
      "metadata": {
        "id": "e2y-E33O4dZc"
      }
    },
    {
      "cell_type": "markdown",
      "source": [
        "Q.3- What are pre-defined keywords in pyhton?\n",
        "\n",
        "Ans- Pre-defined keyword are reserved and used for specific purpose. they have fixed meaning in python interpreter. you cannot use them for other purpose. for eg if you tried to name a variable if the interpreter would get confused because if already has a job it is used for making decision in your code."
      ],
      "metadata": {
        "id": "BZcoJkcL5bEG"
      }
    },
    {
      "cell_type": "markdown",
      "source": [
        "Q.4- Can keywords be used as variable name?\n",
        "\n",
        "Ans- No you can use keywords as a variable name in pyhton."
      ],
      "metadata": {
        "id": "N5fyPUiq6yUX"
      }
    },
    {
      "cell_type": "markdown",
      "source": [
        "Q.5-What is mutability in python?\n",
        "\n",
        "Ans- Mutability in python is all about whether you can change a piece of data after it's been created. if you can change  or modify the content of the object without creating a new one then it is mutable."
      ],
      "metadata": {
        "id": "KTGJmW6d7QWP"
      }
    },
    {
      "cell_type": "markdown",
      "source": [
        "Q.6-Why are list mutable, but tuples are immutable?\n",
        "\n",
        "Ans-Lists are mutable because they are designed for flexible collections where you expect to add, remove, and change items.\n",
        "\n",
        "Tuples are immutable because they are designed for fixed, unchanging data, like coordinates or a date, which should not be accidentally altered.\n"
      ],
      "metadata": {
        "id": "KdchqxtL9Dpn"
      }
    },
    {
      "cell_type": "markdown",
      "source": [
        "Q.7-What is the difference between \"==\" and \"is\" operators in python?\n",
        "\n",
        "Ans-In python both == and is are used for comparison but they are used for different things\n",
        "\n",
        "operator == is used for Equality and to see if two objects have the same content?\n",
        "\n",
        "operator is use to identity  ask, are these two things the exact same object in the computer's memory?"
      ],
      "metadata": {
        "id": "RXCyr2Yp91Bm"
      }
    },
    {
      "cell_type": "code",
      "execution_count": 2,
      "metadata": {
        "id": "nqN4w4oY19tn"
      },
      "outputs": [],
      "source": []
    },
    {
      "cell_type": "markdown",
      "source": [
        "Q.8-What are logical operators in python?\n",
        "\n",
        "Ans-Logical operators are special keywords that let you combine or modify conditional statements that result in a True or False value. They are the tools you use to build more complex rules in the code.\n",
        "\n",
        "There are three main logical operators: and, or, and not."
      ],
      "metadata": {
        "id": "ZOBCLwMR_JZn"
      }
    },
    {
      "cell_type": "markdown",
      "source": [
        "Q.9-What is type casting in python?\n",
        "\n",
        "Ans-Type casting is the process of converting a value from data to another. For example, using int() to turn a string of digits into a number, or str() to turn a number into a string of text.\n"
      ],
      "metadata": {
        "id": "gyEMzTR2_zfM"
      }
    },
    {
      "cell_type": "markdown",
      "source": [
        "Q.10-What is the difference between implicit and explicit type casting?\n",
        "\n",
        "Ans- Implicit Type Casting: Pyhton automatically convert one data type to another automatically. This happens when it's safe to do so, like when an integer is converted to a float in an arithmetic operation to avoid losing the decimal part.\n",
        "\n",
        "Explicit Type Casting: when we  manually convert a value from one type to another using functions like int(), str(), or float(). we do this when we know pyhton won't do it automatically and may result in data loss or a vallue error."
      ],
      "metadata": {
        "id": "KLWGZ47MAjGe"
      }
    },
    {
      "cell_type": "markdown",
      "source": [
        "Q.11-What is the purpose of conditional statement in python?\n",
        "\n",
        "Ans-The purpose of conditional statement in python is to allow our program to make decision and execute different actions based on whether a given condition is true or false."
      ],
      "metadata": {
        "id": "20M8fCf9BtCc"
      }
    },
    {
      "cell_type": "markdown",
      "source": [
        "Q.12-How does the elif statment work?\n",
        "\n",
        "Ans-The elif statement in Python is a way to test for a new condition if the initial if statement and any previous elif statements was False. It allows you to create a chain of conditional checks.\n",
        "\n"
      ],
      "metadata": {
        "id": "-IaXANLu1-Z9"
      }
    },
    {
      "cell_type": "markdown",
      "source": [
        "Q.13 what is the difference between for and while loop?\n",
        "\n",
        "Ans-A for loop is used when you know exactly how many times you want to repeat a block of code. It's designed to repeat over a sequence of items, such as a list, string, or range of numbers.\n",
        "\n",
        "A while loop is used when you want to repeat a block of code as long as a certain condition is true. The loop continues indefinitely until the condition becomes false.\n"
      ],
      "metadata": {
        "id": "8mg6eeqowtc2"
      }
    },
    {
      "cell_type": "markdown",
      "source": [
        "Q.14-Describe a scenario where a while loop is more suitable than a for loop.\n",
        "\n",
        "Ans-A while loop is more suitable than a for loop when the number of repetitions is unknown and the loop needs to continue running as long as a specific condition is met.\n",
        "\n",
        "Scenario-Imagine If i am writing a program that asks a user to enter a password. The password must meet certain criteria, like being at least 8 characters long. use some speicial character one number should be there. You want to keep prompting the user until they enter a valid password."
      ],
      "metadata": {
        "id": "kFwpA4RpyMzn"
      }
    },
    {
      "cell_type": "markdown",
      "source": [
        "# Practical Questions"
      ],
      "metadata": {
        "id": "kFILrY8DzQ7L"
      }
    },
    {
      "cell_type": "markdown",
      "source": [
        "Q.1-Write a Python code to print \"Hello,World!\"[link text](https://)"
      ],
      "metadata": {
        "id": "r6xhEvMozlkT"
      }
    },
    {
      "cell_type": "code",
      "source": [
        "print(\"Hello, World!\")\n"
      ],
      "metadata": {
        "colab": {
          "base_uri": "https://localhost:8080/"
        },
        "id": "meQBRqxlzkkz",
        "outputId": "8ec018de-9ce8-45bf-f1e2-7fa940473a23"
      },
      "execution_count": 3,
      "outputs": [
        {
          "output_type": "stream",
          "name": "stdout",
          "text": [
            "Hello, World!\n"
          ]
        }
      ]
    },
    {
      "cell_type": "markdown",
      "source": [
        "Q.2- Write a python program that displays your name and age.\n"
      ],
      "metadata": {
        "id": "1idvM0bWz_3f"
      }
    },
    {
      "cell_type": "code",
      "source": [
        "name = \"Aniket Singh\"\n",
        "age = 24\n",
        "print(\"My name is\", name, \"and I am\", age, \"years old.\")\n"
      ],
      "metadata": {
        "colab": {
          "base_uri": "https://localhost:8080/"
        },
        "id": "MYVey3sx0JoM",
        "outputId": "bf59dc46-d315-407b-dcff-533e82c61546"
      },
      "execution_count": 4,
      "outputs": [
        {
          "output_type": "stream",
          "name": "stdout",
          "text": [
            "My name is Aniket Singh and I am 24 years old.\n"
          ]
        }
      ]
    },
    {
      "cell_type": "markdown",
      "source": [
        "Q.3-Write code to print all the pre-defined keywords in python using the keyword library."
      ],
      "metadata": {
        "id": "tvPGTzI70Qwp"
      }
    },
    {
      "cell_type": "code",
      "source": [
        "import keyword\n",
        "print(keyword.kwlist)\n"
      ],
      "metadata": {
        "colab": {
          "base_uri": "https://localhost:8080/"
        },
        "id": "7qMzR_b20cGZ",
        "outputId": "3fa8bf42-e742-48a4-b8f3-a7809999dd74"
      },
      "execution_count": 5,
      "outputs": [
        {
          "output_type": "stream",
          "name": "stdout",
          "text": [
            "['False', 'None', 'True', 'and', 'as', 'assert', 'async', 'await', 'break', 'class', 'continue', 'def', 'del', 'elif', 'else', 'except', 'finally', 'for', 'from', 'global', 'if', 'import', 'in', 'is', 'lambda', 'nonlocal', 'not', 'or', 'pass', 'raise', 'return', 'try', 'while', 'with', 'yield']\n"
          ]
        }
      ]
    },
    {
      "cell_type": "markdown",
      "source": [
        "Q.4-Write a program that checks if a given word is a python keyword."
      ],
      "metadata": {
        "id": "6Flj1NFh0fZH"
      }
    },
    {
      "cell_type": "code",
      "source": [
        "import keyword\n",
        "word = \"for\"\n",
        "if keyword.iskeyword(word):\n",
        "    print(word, \"is a Python keyword.\")\n",
        "else:\n",
        "    print(word, \"is not a Python keyword.\")\n"
      ],
      "metadata": {
        "colab": {
          "base_uri": "https://localhost:8080/"
        },
        "id": "-IphgAO-0oqk",
        "outputId": "a3f7e989-cddc-4d32-97f2-2a2d8067e56b"
      },
      "execution_count": 6,
      "outputs": [
        {
          "output_type": "stream",
          "name": "stdout",
          "text": [
            "for is a Python keyword.\n"
          ]
        }
      ]
    },
    {
      "cell_type": "markdown",
      "source": [
        "Q.5- Create a list and tuple in python,and demonstrate how attempting to change an element works different for each,"
      ],
      "metadata": {
        "id": "BQHEbgvp08k5"
      }
    },
    {
      "cell_type": "code",
      "source": [
        "# List - mutable\n",
        "my_list = [1, 2, 3]\n",
        "print(\"Original list:\", my_list)\n",
        "my_list[0] = 10\n",
        "print(\"Modified list:\", my_list)\n",
        "\n",
        "# Tuple - immutable\n",
        "my_tuple = (1, 2, 3)\n",
        "print(\"\\nOriginal tuple:\", my_tuple)\n",
        "try:\n",
        "    my_tuple[0] = 10\n",
        "except TypeError as e:\n",
        "    print(\"Error:\", e)\n"
      ],
      "metadata": {
        "colab": {
          "base_uri": "https://localhost:8080/"
        },
        "id": "MY0GUF0v1Ska",
        "outputId": "03173af7-d838-4e77-e76f-d414c16259e5"
      },
      "execution_count": 7,
      "outputs": [
        {
          "output_type": "stream",
          "name": "stdout",
          "text": [
            "Original list: [1, 2, 3]\n",
            "Modified list: [10, 2, 3]\n",
            "\n",
            "Original tuple: (1, 2, 3)\n",
            "Error: 'tuple' object does not support item assignment\n"
          ]
        }
      ]
    },
    {
      "cell_type": "markdown",
      "source": [
        "Q.6-Write a function to demonstrate the behavior of mutable and immutable arguments."
      ],
      "metadata": {
        "id": "ewhmSkDP2CnR"
      }
    },
    {
      "cell_type": "code",
      "source": [
        "def modify_list(lst):\n",
        "    lst.append(4)\n",
        "\n",
        "def modify_int(x):\n",
        "    x += 1\n",
        "\n",
        "numbers = [1, 2, 3]\n",
        "modify_list(numbers)\n",
        "print(\"List after modification:\", numbers)\n",
        "\n",
        "num = 5\n",
        "modify_int(num)\n",
        "print(\"Integer after modification:\", num)"
      ],
      "metadata": {
        "colab": {
          "base_uri": "https://localhost:8080/"
        },
        "id": "5jLvozt92NNe",
        "outputId": "fee8dc05-f2ca-4852-d69d-fe60b9cac9d1"
      },
      "execution_count": 8,
      "outputs": [
        {
          "output_type": "stream",
          "name": "stdout",
          "text": [
            "List after modification: [1, 2, 3, 4]\n",
            "Integer after modification: 5\n"
          ]
        }
      ]
    },
    {
      "cell_type": "markdown",
      "source": [
        "Q.7- Write a program that performs basic arithmentic operations on two user-input numbers."
      ],
      "metadata": {
        "id": "fu35iPPb2Vnj"
      }
    },
    {
      "cell_type": "code",
      "source": [
        "num1 = float(input(\"Enter the first number: \"))\n",
        "num2 = float(input(\"Enter the second number: \"))\n",
        "\n",
        "print(\"Addition:\", num1 + num2)\n",
        "print(\"Subtraction:\", num1 - num2)\n",
        "print(\"Multiplication:\", num1 * num2)\n",
        "print(\"Division:\", num1 / num2)\n"
      ],
      "metadata": {
        "colab": {
          "base_uri": "https://localhost:8080/"
        },
        "id": "1fvr9FWQ2n5D",
        "outputId": "3800c930-5fd2-4d5c-95cb-f7e24df8dd45"
      },
      "execution_count": 9,
      "outputs": [
        {
          "output_type": "stream",
          "name": "stdout",
          "text": [
            "Enter the first number: 5\n",
            "Enter the second number: 10\n",
            "Addition: 15.0\n",
            "Subtraction: -5.0\n",
            "Multiplication: 50.0\n",
            "Division: 0.5\n"
          ]
        }
      ]
    },
    {
      "cell_type": "markdown",
      "source": [
        "Q.8-Write a program to demonstrate the use of logical operators."
      ],
      "metadata": {
        "id": "BDxpukgR3S7l"
      }
    },
    {
      "cell_type": "code",
      "source": [
        "x = True\n",
        "y = False\n",
        "\n",
        "print(\"x and y:\", x and y)\n",
        "print(\"x or y:\", x or y)\n",
        "print(\"not x:\", not x)\n"
      ],
      "metadata": {
        "colab": {
          "base_uri": "https://localhost:8080/"
        },
        "id": "2gTZEhU13hzF",
        "outputId": "16e2f407-9047-4282-85e9-b7b1982f40b8"
      },
      "execution_count": 10,
      "outputs": [
        {
          "output_type": "stream",
          "name": "stdout",
          "text": [
            "x and y: False\n",
            "x or y: True\n",
            "not x: False\n"
          ]
        }
      ]
    },
    {
      "cell_type": "markdown",
      "source": [
        "Q.9-Write a python program to convert user input from string to integer,float,and boolean types.\n"
      ],
      "metadata": {
        "id": "d3CxpmOI3mo6"
      }
    },
    {
      "cell_type": "code",
      "source": [
        "val = input(\"Enter a value: \")\n",
        "print(\"Integer:\", int(val))\n",
        "print(\"Float:\", float(val))\n",
        "print(\"Boolean:\", bool(val))"
      ],
      "metadata": {
        "colab": {
          "base_uri": "https://localhost:8080/"
        },
        "id": "QJoc6PWF36Te",
        "outputId": "4a8962dc-cd35-48a3-f3f8-a8cc9ee2f5af"
      },
      "execution_count": 11,
      "outputs": [
        {
          "output_type": "stream",
          "name": "stdout",
          "text": [
            "Enter a value: 50\n",
            "Integer: 50\n",
            "Float: 50.0\n",
            "Boolean: True\n"
          ]
        }
      ]
    },
    {
      "cell_type": "markdown",
      "source": [
        "Q.10-Write a code to demonstrate type casting with list elements."
      ],
      "metadata": {
        "id": "NoeATmeS4HY2"
      }
    },
    {
      "cell_type": "code",
      "source": [
        "str_list = ['1', '2', '3']\n",
        "int_list = [int(i) for i in str_list]\n",
        "print(\"String list:\", str_list)\n",
        "print(\"Integer list:\", int_list)\n",
        "\n",
        "float_list = [1.5, 2.5, 3.5]\n",
        "int_from_float = [int(i) for i in float_list]\n",
        "print(\"\\nFloat list:\", float_list)\n",
        "print(\"Integer list from float:\", int_from_float)\n"
      ],
      "metadata": {
        "colab": {
          "base_uri": "https://localhost:8080/"
        },
        "id": "LCgBcbc_4WT9",
        "outputId": "3d58561c-80c3-400b-8896-fdb16bac7e9a"
      },
      "execution_count": 12,
      "outputs": [
        {
          "output_type": "stream",
          "name": "stdout",
          "text": [
            "String list: ['1', '2', '3']\n",
            "Integer list: [1, 2, 3]\n",
            "\n",
            "Float list: [1.5, 2.5, 3.5]\n",
            "Integer list from float: [1, 2, 3]\n"
          ]
        }
      ]
    },
    {
      "cell_type": "markdown",
      "source": [
        "Q.11-Write a program that checks if a number is positive,negative,or zero."
      ],
      "metadata": {
        "id": "PFPpmY_d4cl-"
      }
    },
    {
      "cell_type": "code",
      "source": [
        "num = float(input(\"Enter a number: \"))\n",
        "if num > 0:\n",
        "    print(\"The number is positive.\")\n",
        "elif num < 0:\n",
        "    print(\"The number is negative.\")\n",
        "else:\n",
        "    print(\"The number is zero.\")\n"
      ],
      "metadata": {
        "colab": {
          "base_uri": "https://localhost:8080/"
        },
        "id": "E2Aoh3zW4n1Q",
        "outputId": "71ed09bd-2289-474a-912c-ebbc9b19cff1"
      },
      "execution_count": 13,
      "outputs": [
        {
          "output_type": "stream",
          "name": "stdout",
          "text": [
            "Enter a number: 75\n",
            "The number is positive.\n"
          ]
        }
      ]
    },
    {
      "cell_type": "markdown",
      "source": [
        "Q.12-Write a for loop to print number from 1 to 10."
      ],
      "metadata": {
        "id": "D49BDWsW4wb1"
      }
    },
    {
      "cell_type": "code",
      "source": [
        "for i in range(1, 11):\n",
        "    print(i)\n"
      ],
      "metadata": {
        "colab": {
          "base_uri": "https://localhost:8080/"
        },
        "id": "wlp-NDGw45Uj",
        "outputId": "30297766-6825-4ffe-cc88-e865f62b6096"
      },
      "execution_count": 14,
      "outputs": [
        {
          "output_type": "stream",
          "name": "stdout",
          "text": [
            "1\n",
            "2\n",
            "3\n",
            "4\n",
            "5\n",
            "6\n",
            "7\n",
            "8\n",
            "9\n",
            "10\n"
          ]
        }
      ]
    },
    {
      "cell_type": "markdown",
      "source": [
        "Q.13-Write a python program to find the sum of all even number between 1 and 50."
      ],
      "metadata": {
        "id": "vdCmlBJn47ml"
      }
    },
    {
      "cell_type": "code",
      "source": [
        "\n",
        "total_sum = 0\n",
        "\n",
        "for num in range(1, 51):\n",
        "    if num % 2 == 0:\n",
        "        total_sum += num\n",
        "\n",
        "print(\"The sum of all even numbers between 1 and 50 is:\", total_sum)"
      ],
      "metadata": {
        "colab": {
          "base_uri": "https://localhost:8080/"
        },
        "id": "rMo9kDgT5F-R",
        "outputId": "d70ea488-4e01-4de5-8511-5fdabab9b7c0"
      },
      "execution_count": 15,
      "outputs": [
        {
          "output_type": "stream",
          "name": "stdout",
          "text": [
            "The sum of all even numbers between 1 and 50 is: 650\n"
          ]
        }
      ]
    },
    {
      "cell_type": "markdown",
      "source": [
        "Q.14- Write a program to reverse a string using a while loop."
      ],
      "metadata": {
        "id": "Z8L-piRi5ffR"
      }
    },
    {
      "cell_type": "code",
      "source": [
        "s = input(\"Enter a string: \")\n",
        "rev = \"\"\n",
        "i = len(s) - 1\n",
        "while i >= 0:\n",
        "    rev += s[i]\n",
        "    i -= 1\n",
        "print(\"Reversed string:\", rev)"
      ],
      "metadata": {
        "colab": {
          "base_uri": "https://localhost:8080/"
        },
        "id": "PpMOHR1p5oop",
        "outputId": "b11b1f08-ed10-4553-efba-9fd49d04de27"
      },
      "execution_count": 16,
      "outputs": [
        {
          "output_type": "stream",
          "name": "stdout",
          "text": [
            "Enter a string: act\n",
            "Reversed string: tca\n"
          ]
        }
      ]
    },
    {
      "cell_type": "markdown",
      "source": [
        "Q.15 Write a python program to calculate the factorial of a number provided by the user using a while loop."
      ],
      "metadata": {
        "id": "a9pz8ViL7EcY"
      }
    },
    {
      "cell_type": "code",
      "source": [
        "n = int(input(\"Enter a number: \"))\n",
        "fact = 1\n",
        "i = 1\n",
        "while i <= n:\n",
        "    fact *= i\n",
        "    i += 1\n",
        "print(f\"Factorial of {n} is {fact}\")"
      ],
      "metadata": {
        "colab": {
          "base_uri": "https://localhost:8080/"
        },
        "id": "c0XA3-s57aVs",
        "outputId": "4123be0f-6b0b-4571-d947-0db1fdd64d20"
      },
      "execution_count": 17,
      "outputs": [
        {
          "output_type": "stream",
          "name": "stdout",
          "text": [
            "Enter a number: 5\n",
            "Factorial of 5 is 120\n"
          ]
        }
      ]
    }
  ]
}