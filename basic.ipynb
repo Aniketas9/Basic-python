{
  "nbformat": 4,
  "nbformat_minor": 0,
  "metadata": {
    "colab": {
      "provenance": []
    },
    "kernelspec": {
      "name": "python3",
      "display_name": "Python 3"
    },
    "language_info": {
      "name": "python"
    }
  },
  "cells": [
    {
      "cell_type": "markdown",
      "source": [],
      "metadata": {
        "id": "-vijGeseEh5s"
      }
    },
    {
      "cell_type": "markdown",
      "source": [
        "# Basic"
      ],
      "metadata": {
        "id": "eJAKwXGeEjbP"
      }
    },
    {
      "cell_type": "markdown",
      "source": [
        "What is Python, and why is it popular?\n",
        "- Python is a coding language used to tell computers what to do. Think of it as a set of instructions. What makes it special is that its instructions are designed to be super readable, almost like plain English. This makes it much easier to write and understand than many other languages that are filled with complex symbols and strict rules.\n",
        "\n",
        "- pouplar because,\n",
        "1. it's incredibly easy to learn\n",
        "2. we can use python for almost anything,which makes it versatile.\n",
        "3. A massive community and open source libraries\n"
      ],
      "metadata": {
        "id": "NTBcgH6FFWvs"
      }
    },
    {
      "cell_type": "markdown",
      "source": [
        "What is an interpreter in Python?\n",
        "- An interpreter is a program that reads and executes your Python code directly, line by line."
      ],
      "metadata": {
        "id": "BnGUnQt3JCLA"
      }
    },
    {
      "cell_type": "markdown",
      "source": [
        "What are pre-defined keywords in Python?\n",
        "- Pre-defined keywords in Python are reserved words that have special meanings and purposes built into the language itself.\n",
        "These words act as the fundamental building blocks for Python's syntax and grammar. Because they are reserved, you cannot use them as names for your variables, functions, or any other identifiers."
      ],
      "metadata": {
        "id": "9EeIhESOJrV2"
      }
    },
    {
      "cell_type": "markdown",
      "source": [
        "Can keywords be used as variable names\n",
        "- No, we cannot use keywords as variable names in Python."
      ],
      "metadata": {
        "id": "ZBJmO71jKYRf"
      }
    },
    {
      "cell_type": "markdown",
      "source": [
        "What is mutability in Python?\n",
        "- Mutability in Python means an object's state or value can be changed after it has been created. Mutable objects are changeable, while immutable objects are not.\n",
        "\n",
        "\n"
      ],
      "metadata": {
        "id": "YiSbG6iYLeAx"
      }
    },
    {
      "cell_type": "markdown",
      "source": [
        "Why are lists mutable, but tuples are immutable?\n",
        "- It's a design choice in Python to provide two distinct tools for different purposes.\n",
        "\n",
        "- Lists [] are for collections that need to change. Think of a shopping list where you add and remove items. Their flexibility is their main feature.\n",
        "\n",
        "- Tuples () are for fixed data records that should not change. Think of GPS coordinates. Their immutability guarantees that the data remains constant, which allows them to be used as reliable dictionary keys."
      ],
      "metadata": {
        "id": "7LygWCGVLm5P"
      }
    },
    {
      "cell_type": "markdown",
      "source": [
        "What is the difference between “==” and “is” operators in Python?\n",
        "- The == operator checks if two objects have the same value, while the is operator checks if two variables point to the exact same object in memory."
      ],
      "metadata": {
        "id": "Y7qSKjU2MNhi"
      }
    },
    {
      "cell_type": "markdown",
      "source": [
        "What are logical operators in Python?\n",
        "- Logical operators in Python are the keywords and, or, and not. They are used to combine conditional statements and return a boolean value (True or False)."
      ],
      "metadata": {
        "id": "fF8OYi6aMvV9"
      }
    },
    {
      "cell_type": "markdown",
      "source": [
        "What is type casting in Python?\n",
        "- Type casting is the process of converting a variable from one data type to another. Python does this explicitly using built-in functions."
      ],
      "metadata": {
        "id": "uhVzfigUM5r_"
      }
    },
    {
      "cell_type": "markdown",
      "source": [
        "What is the difference between implicit and explicit type casting?\n",
        "-  Explicit Casting (Manual): This is like going to a currency exchange counter and telling the clerk, \"Please convert my 100 dollars into yen.\" You are deliberately and manually performing the conversion for a specific purpose.\n",
        "\n",
        "- Implicit Casting (Automatic): This is like using your credit card in another country. You buy something for 1500 yen, and the payment system automatically converts the correct amount from your dollar account to complete the transaction. It happens behind the scenes to make things work."
      ],
      "metadata": {
        "id": "aVEqCcXtNFOe"
      }
    },
    {
      "cell_type": "markdown",
      "source": [
        " What is the purpose of conditional statements in Python?\n",
        " - The purpose of conditional statements in Python is to control the flow of a program by allowing it to make decisions. They let you execute specific blocks of code only when certain conditions are met, making your programs dynamic and responsive."
      ],
      "metadata": {
        "id": "60O1XLEINVV9"
      }
    },
    {
      "cell_type": "markdown",
      "source": [
        "How does the elif statement work\n",
        "- Think of an if-elif-else chain as a series of questions asked in order. As soon as one of them gets a \"yes\" (True), the corresponding action is taken, and the rest of the questions are ignored.\n",
        "\n",
        "1. Python checks the if statement first. If its condition is True, the if block runs, and the entire rest of the chain (all elif and else blocks) is skipped.\n",
        "\n",
        "2. If the if condition is False, Python moves to the first elif statement and checks its condition. If it's True, its code block runs, and the rest of the chain is skipped.\n",
        "\n",
        "3. If that elif is also False, Python moves to the next elif in the sequence and repeats the process.\n",
        "\n",
        "4. The final else block (if it exists) only runs if every single if and elif condition before it was False."
      ],
      "metadata": {
        "id": "g1TqXUoNNmla"
      }
    },
    {
      "cell_type": "markdown",
      "source": [
        "What is the difference between for and while loops?\n",
        "- A for loop is used for iterating over a sequence (like a list or string) a definite number of times. A while loop is used to repeat a block of code as long as a condition is true, for an indefinite number of times"
      ],
      "metadata": {
        "id": "gR3nAp4qOGBF"
      }
    },
    {
      "cell_type": "markdown",
      "source": [
        "Describe a scenario where a while loop is more suitable than a for loop.\n",
        "- A while loop is more suitable than a for loop in any situation where the number of required iterations is unknown before the loop starts and depends on a condition that changes during execution."
      ],
      "metadata": {
        "id": "xbMXDeRBOTG0"
      }
    },
    {
      "cell_type": "code",
      "source": [
        "# 1. Write a Python program to print \"Hello, World!\n",
        "print(\"Hello, World!\")\n",
        "\n",
        "\n",
        "\n",
        "\n",
        "# 2. Write a Python program that displays your name and age , name - aniket and age 24\n",
        "name = \"aniket\"\n",
        "age = 24\n",
        "\n",
        "print(f\"Name: {name}\")\n",
        "print(f\"Age: {age}\")\n",
        "\n",
        "\n",
        "\n",
        "# 3. Write code to print all the pre-defined keywords in Python using the keyword library8\n",
        "import keyword\n",
        "print(\"All of Python's pre-defined keywords are:\")\n",
        "print(keyword.kwlist)\n",
        "\n",
        "\n",
        "\n",
        "\n",
        "# 4. Write a program that checks if a given word is a Python keyword.\n",
        "import keyword\n",
        "\n",
        "word_to_check = input(\"Enter a word to check if it's a Python keyword: \")\n",
        "\n",
        "if keyword.iskeyword(word_to_check):\n",
        "    print(f\"Yes, '{word_to_check}' is a reserved keyword in Python.\")\n",
        "else:\n",
        "    print(f\"No, '{word_to_check}' is not a keyword and can be used as a variable name.\")\n",
        "\n",
        "\n",
        "\n",
        "\n",
        "# 5. Create a list and tuple in Python, and demonstrate how attempting to change an element works differently\n",
        "# for each.\n",
        "print(\"--- List (Mutable) ---\")\n",
        "# Create a list of numbers.\n",
        "my_list = [10, 20, 30]\n",
        "print(f\"Original list: {my_list}\")\n",
        "\n",
        "# Lists are mutable, so we can change an element directly.\n",
        "print(\"Attempting to change the first element to 99...\")\n",
        "my_list[0] = 99\n",
        "print(f\"Modified list: {my_list}\") # The change is successful.\n",
        "print(\"Success! Lists can be changed in-place.\\n\")\n",
        "\n",
        "# --- 2. Demonstrating Tuple Immutability ---\n",
        "print(\"--- Tuple (Immutable) ---\")\n",
        "# Create a tuple of numbers.\n",
        "my_tuple = (10, 20, 30)\n",
        "print(f\"Original tuple: {my_tuple}\")\n",
        "\n",
        "# Tuples are immutable. Attempting to change an element will raise a TypeError.\n",
        "print(\"Attempting to change the first element to 99...\")\n",
        "try:\n",
        "    my_tuple[0] = 99\n",
        "except TypeError as e:\n",
        "    print(f\"Error: Could not change the tuple. Reason: {e}\")\n",
        "\n",
        "print(f\"Final tuple: {my_tuple}\") # The tuple remains unchanged.\n",
        "print(\"Failure! Tuples cannot be changed after creation.\")\n",
        "\n",
        "\n",
        "\n",
        "\n",
        "# 6.  Write a function to demonstrate the behavior of mutable and immutable arguments\n",
        "def modify_data(some_list, some_number):\n",
        "    \"\"\"\n",
        "    This function takes a mutable list and an immutable number.\n",
        "    It modifies the list in-place and reassigns the number to a new value.\n",
        "    \"\"\"\n",
        "    print(\"\\n--- Inside the function ---\")\n",
        "\n",
        "    # 1. Modifying the mutable list\n",
        "    # When we append to the list, we are changing the original object itself.\n",
        "    print(f\"Received list: {some_list}. Appending 'z'.\")\n",
        "    some_list.append('z')\n",
        "    print(f\"List inside function is now: {some_list}\")\n",
        "\n",
        "    # 2. \"Modifying\" the immutable number\n",
        "    # When we add to the number, we are creating a new number object.\n",
        "    # The variable 'some_number' inside the function now points to this new object.\n",
        "    print(f\"Received number: {some_number}. Adding 10 to it.\")\n",
        "    some_number = some_number + 10\n",
        "    print(f\"Number inside function is now: {some_number}\")\n",
        "\n",
        "    print(\"--- Exiting function ---\\n\")\n",
        "\n",
        "# --- Main part of the program ---\n",
        "# Initialize a mutable list and an immutable number\n",
        "letters = ['a', 'b', 'c']\n",
        "number = 50\n",
        "\n",
        "print(\"--- Before calling the function ---\")\n",
        "print(f\"Original list: {letters}\")\n",
        "print(f\"Original number: {number}\")\n",
        "\n",
        "# Call the function with our variables\n",
        "modify_data(letters, number)\n",
        "\n",
        "print(\"--- After the function has run ---\")\n",
        "# The original list has been changed because it's mutable.\n",
        "print(f\"Final list: {letters}\")\n",
        "\n",
        "# The original number is unchanged because it's immutable. The function\n",
        "# only changed its own local copy.\n",
        "print(f\"Final number: {number}\")\n",
        "\n",
        "\n",
        "\n",
        "\n",
        "# 7. Write a program that performs basic arithmetic operations on two user-input numbers.\n",
        "num1 = float(input(\"Enter first number: \"))\n",
        "num2 = float(input(\"Enter second number: \"))\n",
        "\n",
        "# Performing arithmetic operations\n",
        "addition = num1 + num2\n",
        "subtraction = num1 - num2\n",
        "multiplication = num1 * num2\n",
        "\n",
        "# Handle division by zero\n",
        "if num2 != 0:\n",
        "    division = num1 / num2\n",
        "else:\n",
        "    division = \"Undefined (cannot divide by zero)\"\n",
        "\n",
        "# Display results\n",
        "print(\"\\n--- Results ---\")\n",
        "print(\"Addition:\", addition)\n",
        "print(\"Subtraction:\", subtraction)\n",
        "print(\"Multiplication:\", multiplication)\n",
        "print(\"Division:\", division)\n",
        "\n",
        "\n",
        "\n",
        "# 8. Write a program to demonstrate the use of logical operators\n",
        "a = int(input(\"Enter first number: \"))\n",
        "b = int(input(\"Enter second number: \"))\n",
        "\n",
        "print(\"\\n--- Logical Operators Demonstration ---\")\n",
        "\n",
        "# Using 'and' operator\n",
        "print(\"a > 0 and b > 0:\", a > 0 and b > 0)\n",
        "\n",
        "# Using 'or' operator\n",
        "print(\"a > 0 or b > 0:\", a > 0 or b > 0)\n",
        "\n",
        "# Using 'not' operator\n",
        "print(\"not(a > 0):\", not (a > 0))\n",
        "\n",
        "\n",
        "\n",
        "\n",
        "# 9. Write a Python program to convert user input from string to integer, float, and boolean types.\n",
        "user_input = input(\"Enter a value: \")\n",
        "\n",
        "print(\"\\n--- Type Conversion ---\")\n",
        "\n",
        "# Convert to integer\n",
        "try:\n",
        "    int_value = int(user_input)\n",
        "    print(\"As Integer:\", int_value, \"| Type:\", type(int_value))\n",
        "except ValueError:\n",
        "    print(\"Cannot convert to Integer\")\n",
        "\n",
        "# Convert to float\n",
        "try:\n",
        "    float_value = float(user_input)\n",
        "    print(\"As Float:\", float_value, \"| Type:\", type(float_value))\n",
        "except ValueError:\n",
        "    print(\"Cannot convert to Float\")\n",
        "\n",
        "# Convert to boolean\n",
        "# Any non-empty string is True except \"0\" or \"False\" (we handle explicitly)\n",
        "if user_input.strip().lower() in [\"0\", \"false\", \"\"]:\n",
        "    bool_value = False\n",
        "else:\n",
        "    bool_value = True\n",
        "print(\"As Boolean:\", bool_value, \"| Type:\", type(bool_value))\n",
        "\n",
        "\n",
        "\n",
        "\n",
        "# 10. Write code to demonstrate type casting with list elements.\n",
        "str_list = [\"10\", \"20\", \"30\", \"40\"]\n",
        "\n",
        "# Converting each element from string to integer\n",
        "int_list = [int(x) for x in str_list]\n",
        "\n",
        "# Converting integers to float\n",
        "float_list = [float(x) for x in int_list]\n",
        "\n",
        "print(\"Original (string):\", str_list)\n",
        "print(\"As Integers:\", int_list)\n",
        "print(\"As Floats:\", float_list)\n",
        "\n",
        "\n",
        "\n",
        "\n",
        "# 11. Write a program that checks if a number is positive, negative, or zero.\n",
        "num = float(input(\"Enter a number: \"))\n",
        "\n",
        "if num > 0:\n",
        "    print(\"The number is Positive\")\n",
        "elif num < 0:\n",
        "    print(\"The number is Negative\")\n",
        "else:\n",
        "    print(\"The number is Zero\")\n",
        "\n",
        "\n",
        "\n",
        "\n",
        "# 12. Write a for loop to print numbers from 1 to 10.\n",
        "for i in range(1, 11):\n",
        "    print(i, end=\" \")\n",
        "\n",
        "\n",
        "\n",
        "\n",
        "# 13. Write a Python program to find the sum of all even numbers between 1 and 50.\n",
        "total = 0\n",
        "for i in range(2, 51, 2):  # step of 2 gives even numbers\n",
        "    total += i\n",
        "\n",
        "print(\"Sum of even numbers between 1 and 50 is:\", total)\n",
        "\n",
        "\n",
        "\n",
        "\n",
        "# 14. Write a program to reverse a string using a while loop.\n",
        "text = input(\"Enter a string: \")\n",
        "\n",
        "reversed_str = \"\"\n",
        "i = len(text) - 1\n",
        "\n",
        "while i >= 0:\n",
        "    reversed_str += text[i]\n",
        "    i -= 1\n",
        "\n",
        "print(\"Reversed String:\", reversed_str)\n",
        "\n",
        "\n",
        "\n",
        "\n",
        "# 15. Write a Python program to calculate the factorial of a number provided by the user using a while loop.\n",
        "num = int(input(\"Enter a number: \"))\n",
        "\n",
        "factorial = 1\n",
        "i = 1\n",
        "\n",
        "while i <= num:\n",
        "    factorial *= i\n",
        "    i += 1\n",
        "\n",
        "print(\"Factorial of\", num, \"is:\", factorial)"
      ],
      "metadata": {
        "id": "OVhP0J7JO9cr"
      },
      "execution_count": null,
      "outputs": []
    }
  ]
}